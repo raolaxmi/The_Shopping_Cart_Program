{
 "cells": [
  {
   "cell_type": "markdown",
   "id": "6856f29d",
   "metadata": {},
   "source": [
    "# Sprint 6 Hakathon"
   ]
  },
  {
   "cell_type": "markdown",
   "id": "46c7cf2e",
   "metadata": {},
   "source": [
    "# The Shopping cart Program"
   ]
  },
  {
   "cell_type": "code",
   "execution_count": 1,
   "id": "37b8c276",
   "metadata": {},
   "outputs": [],
   "source": [
    "def Quantity_Available():\n",
    "    print(\"=\"*80) #Line\n",
    "    print(\"%10s %20s %20s %15s\" %(\"S.No\",\"Item\",\"Quantity Available\",\"Cost/Item\")) # Table Heading components\n",
    "    print(\"=\"*80) #Line\n",
    "    global item\n",
    "    item={}\n",
    "    a=[]\n",
    "    b=1\n",
    "    for i in range(1,6):\n",
    "        a=[]\n",
    "        c=input(f\"Enter Item Name {i}: \").capitalize() # item name\n",
    "        a.append(int(input(f\"Enter Quantity of {c}: \"))) # Quantity available\n",
    "        a.append(float(input(f\"Enter Cost/Item of {c}: \"))) #cost/item\n",
    "        b=b+1\n",
    "        item[c]=a\n",
    "        print(\".\"*80)"
   ]
  },
  {
   "cell_type": "code",
   "execution_count": 2,
   "id": "34cd8413",
   "metadata": {},
   "outputs": [
    {
     "name": "stdout",
     "output_type": "stream",
     "text": [
      "================================================================================\n",
      "      S.No                 Item   Quantity Available       Cost/Item\n",
      "================================================================================\n",
      "Enter Item Name 1: biscuits\n",
      "Enter Quantity of Biscuits: 5\n",
      "Enter Cost/Item of Biscuits: 20.50\n",
      "................................................................................\n",
      "Enter Item Name 2: cereals\n",
      "Enter Quantity of Cereals: 10\n",
      "Enter Cost/Item of Cereals: 90.00\n",
      "................................................................................\n",
      "Enter Item Name 3: chicken\n",
      "Enter Quantity of Chicken: 20\n",
      "Enter Cost/Item of Chicken: 200.00\n",
      "................................................................................\n",
      "Enter Item Name 4: oats\n",
      "Enter Quantity of Oats: 20\n",
      "Enter Cost/Item of Oats: 39.99\n",
      "................................................................................\n",
      "Enter Item Name 5: rice\n",
      "Enter Quantity of Rice: 30\n",
      "Enter Cost/Item of Rice: 79.99\n",
      "................................................................................\n"
     ]
    }
   ],
   "source": [
    "Quantity_Available()"
   ]
  },
  {
   "cell_type": "code",
   "execution_count": 3,
   "id": "78598e28",
   "metadata": {},
   "outputs": [],
   "source": [
    "def orders():\n",
    "    print(\"=\"*80) #Line\n",
    "    print(\" \"*25,\"Essential Items Available\") # Heading\n",
    "    print()\n",
    "    print(\"%10s %20s %20s %15s\" %(\"S.No\",\"Item\",\"Quantity Available\",\"Cost/Item\")) #Table Heading components\n",
    "    n=1\n",
    "    \n",
    "    \n",
    "    for k,v in item.items():\n",
    "        print(\"%10s %20s %20s %15.2f\" %(n,k,v[0],v[1])) #display items total availability with their cost\n",
    "        n=n+1\n",
    "        \n",
    "    print(\"=\"*80) #Line\n",
    "    global od\n",
    "    od={}\n",
    "    for k,v in item.items():\n",
    "        qd=[]\n",
    "        qty=0\n",
    "        qty=int(input(f\"How many {k} packets are required? : \")) # Ordered Quantity\n",
    "        \n",
    "        if (v[0]>=qty):  #Available quantity is greater than ordered \n",
    "            qd.append(qty)\n",
    "            qd.append(v[1])\n",
    "            qd.append(float(qty*v[1]))\n",
    "            od[k]=qd\n",
    "            v[0]=(v[0]-qty)\n",
    "        else:\n",
    "            print(\"{} {} Packets are not available: \".format(k,qty))\n",
    "    print(\"\\n\")\n",
    "    global add\n",
    "    add={}\n",
    "    print(\"Fill your Delivery Details\")\n",
    "    add[\"Name\"]=input(\"Enter your Name: \").title() #Name of customer\n",
    "    add[\"Address\"]=input(\"Enter your Address: \").title() #address of customer\n",
    "    dis=(int(input(\"Distance from the store 5/10/15: \"))) #distance\n",
    "    global charges\n",
    "    charges=0 #Delivery charges applicable\n",
    "    if (dis==15):\n",
    "        charges=30\n",
    "        print(\"Delivery charges: {} will be levied for {} KM of distance\".format(charges,dis))\n",
    "    if (dis==10):\n",
    "        charges=20\n",
    "        print(\"Delivery charges: {} will be levied for {} KM of distance\".format(charges,dis))\n",
    "    if (dis==5):\n",
    "        charges=10\n",
    "        print(\"Delivery charges: {} will be levied for {} KM of distance\".format(charges,dis))\n",
    "    add[\"Distance\"]=dis\n",
    "    \n",
    "        "
   ]
  },
  {
   "cell_type": "code",
   "execution_count": 4,
   "id": "a007b6ed",
   "metadata": {},
   "outputs": [
    {
     "name": "stdout",
     "output_type": "stream",
     "text": [
      "================================================================================\n",
      "                          Essential Items Available\n",
      "\n",
      "      S.No                 Item   Quantity Available       Cost/Item\n",
      "         1             Biscuits                    5           20.50\n",
      "         2              Cereals                   10           90.00\n",
      "         3              Chicken                   20          200.00\n",
      "         4                 Oats                   20           39.99\n",
      "         5                 Rice                   30           79.99\n",
      "================================================================================\n",
      "How many Biscuits packets are required? : 2\n",
      "How many Cereals packets are required? : 5\n",
      "How many Chicken packets are required? : 1\n",
      "How many Oats packets are required? : 4\n",
      "How many Rice packets are required? : 3\n",
      "\n",
      "\n",
      "Fill your Delivery Details\n",
      "Enter your Name: John Doe\n",
      "Enter your Address: 2165 Bridgeton Henrietta Town line Road Rochester, New York, 14623\n",
      "Distance from the store 5/10/15: 15\n",
      "Delivery charges: 30 will be levied for 15 KM of distance\n"
     ]
    }
   ],
   "source": [
    "orders()"
   ]
  },
  {
   "cell_type": "code",
   "execution_count": 5,
   "id": "9532b494",
   "metadata": {},
   "outputs": [],
   "source": [
    "def bill():\n",
    "    print(\"=\"*80) #Line\n",
    "    print(\" \"*35,\"Bill\") #Heading\n",
    "    print()\n",
    "    print(\"%10s %20s %20s %15s\" %(\"S.No\",\"Item\",\"Quantity\",\"Total Cost\")) #Table Heading components\n",
    "    n=1\n",
    "    t=0\n",
    "    for k,v in od.items():\n",
    "        print(\"%10s %20s %20s %15.2f\" %(n,k,v[0],v[2]))#display items quantity ordered with their total cost\n",
    "        n=n+1\n",
    "        t=t+v[2] #sum of total cost\n",
    "    \n",
    "    print(\"=\"*80)\n",
    "    print(\"Total Cost:\",t)\n",
    "    print(\"Total Bill Amount = Total Amount + Delivery charge: \",t+charges) #sum of total cost and delivery charges\n",
    "    for k,v in add.items():\n",
    "        if k==(\"Name\")or k==(\"Address\"): #Display of name and address of customer\n",
    "            print(k,\":\",v)\n",
    "            \n",
    "    print(\"Do you want to continue shopping? y/n:n\")\n",
    "    print(\"Have a nice day!!\")\n",
    "    "
   ]
  },
  {
   "cell_type": "code",
   "execution_count": 6,
   "id": "ced2a90d",
   "metadata": {},
   "outputs": [
    {
     "name": "stdout",
     "output_type": "stream",
     "text": [
      "================================================================================\n",
      "                                    Bill\n",
      "\n",
      "      S.No                 Item             Quantity      Total Cost\n",
      "         1             Biscuits                    2           41.00\n",
      "         2              Cereals                    5          450.00\n",
      "         3              Chicken                    1          200.00\n",
      "         4                 Oats                    4          159.96\n",
      "         5                 Rice                    3          239.97\n",
      "================================================================================\n",
      "Total Cost: 1090.93\n",
      "Total Bill Amount = Total Amount + Delivery charge:  1120.93\n",
      "Name : John Doe\n",
      "Address : 2165 Bridgeton Henrietta Town Line Road Rochester, New York, 14623\n",
      "Do you want to continue shopping? y/n:n\n",
      "Have a nice day!!\n"
     ]
    }
   ],
   "source": [
    "bill()"
   ]
  }
 ],
 "metadata": {
  "kernelspec": {
   "display_name": "Python 3 (ipykernel)",
   "language": "python",
   "name": "python3"
  },
  "language_info": {
   "codemirror_mode": {
    "name": "ipython",
    "version": 3
   },
   "file_extension": ".py",
   "mimetype": "text/x-python",
   "name": "python",
   "nbconvert_exporter": "python",
   "pygments_lexer": "ipython3",
   "version": "3.9.13"
  }
 },
 "nbformat": 4,
 "nbformat_minor": 5
}
